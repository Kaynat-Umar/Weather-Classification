{
  "nbformat": 4,
  "nbformat_minor": 0,
  "metadata": {
    "colab": {
      "provenance": [],
      "gpuType": "T4"
    },
    "kernelspec": {
      "name": "python3",
      "display_name": "Python 3"
    },
    "language_info": {
      "name": "python"
    },
    "accelerator": "GPU"
  },
  "cells": [
    {
      "cell_type": "code",
      "source": [
        "import os\n",
        "import json"
      ],
      "metadata": {
        "id": "1btlhhjgNBTs"
      },
      "execution_count": 1,
      "outputs": []
    },
    {
      "cell_type": "code",
      "source": [
        "kaggle_user=\"kaynatumar\"\n",
        "kaggle_key=\"5247b33938da20c697258670411fdfd4\"\n",
        "os.makedirs(os.path.join(os.path.expanduser(\"~\"), \".kaggle\"), exist_ok=True)\n",
        "with open(os.path.join(os.path.expanduser(\"~\"), \".kaggle\", \"kaggle.json\"), 'w') as file:\n",
        "    json.dump({\"username\": kaggle_user, \"key\": kaggle_key}, file)\n",
        "os.chmod(os.path.join(os.path.expanduser(\"~\"), \".kaggle\", \"kaggle.json\"), 0o600)\n"
      ],
      "metadata": {
        "id": "js_VtmF2Auev"
      },
      "execution_count": 2,
      "outputs": []
    },
    {
      "cell_type": "code",
      "source": [
        "os.environ[\"kaggle_user\"]=\"kaynatumar\"\n"
      ],
      "metadata": {
        "id": "9IvzbnTkBeMu"
      },
      "execution_count": 3,
      "outputs": []
    },
    {
      "cell_type": "code",
      "source": [
        "os.environ[\"kaggle_key\"]=\"5247b33938da20c697258670411fdfd4\""
      ],
      "metadata": {
        "id": "L9y1N1ygCwRs"
      },
      "execution_count": 4,
      "outputs": []
    },
    {
      "cell_type": "code",
      "source": [
        "!kaggle datasets download -d vijaygiitk/multiclass-weather-dataset"
      ],
      "metadata": {
        "colab": {
          "base_uri": "https://localhost:8080/"
        },
        "id": "O7oi1NJ6DF7C",
        "outputId": "10a782c2-d92c-42ca-9f15-29c98a750d11"
      },
      "execution_count": 5,
      "outputs": [
        {
          "output_type": "stream",
          "name": "stdout",
          "text": [
            "Downloading multiclass-weather-dataset.zip to /content\n",
            " 95% 128M/134M [00:01<00:00, 115MB/s]\n",
            "100% 134M/134M [00:01<00:00, 106MB/s]\n"
          ]
        }
      ]
    },
    {
      "cell_type": "code",
      "source": [
        "from zipfile import ZipFile\n"
      ],
      "metadata": {
        "id": "aD1YbrTFDV80"
      },
      "execution_count": 6,
      "outputs": []
    },
    {
      "cell_type": "code",
      "source": [
        "file_name=\"/content/multiclass-weather-dataset.zip\"\n",
        "with ZipFile(file_name, 'r')as zip:\n",
        "  zip.extractall()\n",
        "  print('done')"
      ],
      "metadata": {
        "colab": {
          "base_uri": "https://localhost:8080/"
        },
        "id": "_FZy7_ogDWAY",
        "outputId": "51333cfe-98c7-4858-ba3a-3fb53bfb5b4f"
      },
      "execution_count": 7,
      "outputs": [
        {
          "output_type": "stream",
          "name": "stdout",
          "text": [
            "done\n"
          ]
        }
      ]
    },
    {
      "cell_type": "code",
      "source": [
        "import warnings\n",
        "warnings.filterwarnings('ignore')\n",
        "data_dir_list = os.listdir('/content/dataset')\n",
        "print(data_dir_list)\n",
        "path, dirs, files = next(os.walk(\"/content/dataset\"))\n",
        "file_count = len(files)"
      ],
      "metadata": {
        "colab": {
          "base_uri": "https://localhost:8080/"
        },
        "id": "ox_v_JN3DWD5",
        "outputId": "a7e8d8ae-b16d-4823-8d1e-ead5c5a5d068"
      },
      "execution_count": 8,
      "outputs": [
        {
          "output_type": "stream",
          "name": "stdout",
          "text": [
            "['shine', 'sunrise', 'rainy', 'alien_test', 'cloudy', 'foggy', 'test.csv']\n"
          ]
        }
      ]
    },
    {
      "cell_type": "code",
      "source": [
        "original_dataset_dir = '/content/dataset'\n",
        "base_dir = '/content/weather-data/'\n",
        "os.mkdir(base_dir)"
      ],
      "metadata": {
        "id": "WNyF0jWoDWH3"
      },
      "execution_count": 9,
      "outputs": []
    },
    {
      "cell_type": "code",
      "source": [
        "train_dir = os.path.join(base_dir, 'train')\n",
        "os.mkdir(train_dir)\n",
        "\n",
        "validation_dir = os.path.join(base_dir, 'validation')\n",
        "os.mkdir(validation_dir)"
      ],
      "metadata": {
        "id": "sHC45q6MDWKt"
      },
      "execution_count": 10,
      "outputs": []
    },
    {
      "cell_type": "code",
      "source": [
        "train_cloud_dir = os.path.join(train_dir, 'cloudy')\n",
        "os.mkdir(train_cloud_dir)"
      ],
      "metadata": {
        "id": "lni1pC3hFtF9"
      },
      "execution_count": 11,
      "outputs": []
    },
    {
      "cell_type": "code",
      "source": [
        "train_sunrise_dir = os.path.join(train_dir, 'sunrise')\n",
        "os.mkdir(train_sunrise_dir)"
      ],
      "metadata": {
        "id": "UpqrXNGy6f2c"
      },
      "execution_count": 12,
      "outputs": []
    },
    {
      "cell_type": "code",
      "source": [
        "train_foggy_dir = os.path.join(train_dir, 'foggy')\n",
        "os.mkdir(train_foggy_dir)"
      ],
      "metadata": {
        "id": "uMAlTdLu6f7a"
      },
      "execution_count": 13,
      "outputs": []
    },
    {
      "cell_type": "code",
      "source": [
        "train_rainy_dir = os.path.join(train_dir, 'rainy')\n",
        "os.mkdir(train_rainy_dir)"
      ],
      "metadata": {
        "id": "iDbs3b9y6gBn"
      },
      "execution_count": 14,
      "outputs": []
    },
    {
      "cell_type": "code",
      "source": [
        "train_shine_dir = os.path.join(train_dir, 'shine')\n",
        "os.mkdir(train_shine_dir)"
      ],
      "metadata": {
        "id": "ZukrIDAW64b0"
      },
      "execution_count": 15,
      "outputs": []
    },
    {
      "cell_type": "code",
      "source": [
        "validation_sunrise_dir = os.path.join(validation_dir, 'sunrise')\n",
        "os.mkdir(validation_sunrise_dir)"
      ],
      "metadata": {
        "id": "XZCgW-__FtZm"
      },
      "execution_count": 16,
      "outputs": []
    },
    {
      "cell_type": "code",
      "source": [
        "validation_cloudy_dir = os.path.join(validation_dir, 'cloudy')\n",
        "os.mkdir(validation_cloudy_dir)"
      ],
      "metadata": {
        "id": "1ZF1HWmp7Uk9"
      },
      "execution_count": 17,
      "outputs": []
    },
    {
      "cell_type": "code",
      "source": [
        "validation_foggy_dir = os.path.join(validation_dir, 'foggy')\n",
        "os.mkdir(validation_foggy_dir)"
      ],
      "metadata": {
        "id": "w_m1FfXK7VK8"
      },
      "execution_count": 18,
      "outputs": []
    },
    {
      "cell_type": "code",
      "source": [
        "validation_rainy_dir = os.path.join(validation_dir, 'rainy')\n",
        "os.mkdir(validation_rainy_dir)"
      ],
      "metadata": {
        "id": "hxoIcCQMJkNH"
      },
      "execution_count": 19,
      "outputs": []
    },
    {
      "cell_type": "code",
      "source": [
        "validation_shine_dir = os.path.join(validation_dir, 'shine')\n",
        "os.mkdir(validation_shine_dir)"
      ],
      "metadata": {
        "id": "Cccxii7aJkQ5"
      },
      "execution_count": 20,
      "outputs": []
    },
    {
      "cell_type": "code",
      "source": [
        "def split_data(SOURCE, TRAINING, VALIDATION, SPLIT_SIZE):\n",
        "    files = []\n",
        "    for filename in os.listdir(SOURCE):\n",
        "        file = SOURCE + filename\n",
        "        if os.path.getsize(file) > 0:\n",
        "            files.append(filename)\n",
        "        else:\n",
        "            print(filename + \" is zero length, so ignoring.\")\n",
        "\n",
        "    training_length = int(len(files) * SPLIT_SIZE)\n",
        "    valid_length = int(len(files) - training_length)\n",
        "    shuffled_set = random.sample(files, len(files))\n",
        "    training_set = shuffled_set[0:training_length]\n",
        "    valid_set = shuffled_set[training_length:]\n",
        "\n",
        "    for filename in training_set:\n",
        "        this_file = SOURCE + filename\n",
        "        destination = TRAINING + filename\n",
        "        copyfile(this_file, destination)\n",
        "\n",
        "    for filename in valid_set:\n",
        "        this_file = SOURCE + filename\n",
        "        destination = VALIDATION + filename\n",
        "        copyfile(this_file, destination)"
      ],
      "metadata": {
        "id": "CeCphRkKJkVF"
      },
      "execution_count": 21,
      "outputs": []
    },
    {
      "cell_type": "code",
      "source": [
        "CLOUDY_SOURCE_DIR = '/content/dataset/cloudy/'\n",
        "TRAINING_CLOUDY_DIR = '/content/weather-data/train/cloudy/'\n",
        "VALID_CLOUDY_DIR = '/content/weather-data/validation/cloudy/'\n",
        "\n",
        "FOGGY_SOURCE_DIR = '/content/dataset/foggy/'\n",
        "TRAINING_FOGGY_DIR = '/content/weather-data/train/foggy/'\n",
        "VALID_FOGGY_DIR = '/content/weather-data/validation/foggy/'\n",
        "\n",
        "RAINY_SOURCE_DIR = '/content/dataset/rainy/'\n",
        "TRAINING_RAINY_DIR = '/content/weather-data/train/rainy/'\n",
        "VALID_RAINY_DIR = '/content/weather-data/validation/rainy/'\n",
        "\n",
        "SHINE_SOURCE_DIR = '/content/dataset/shine/'\n",
        "TRAINING_SHINE_DIR = '/content/weather-data/train/shine/'\n",
        "VALID_SHINE_DIR = '/content/weather-data/validation/shine/'\n",
        "\n",
        "SUNRISE_SOURCE_DIR = '/content/dataset/sunrise/'\n",
        "TRAINING_SUNRISE_DIR = '/content/weather-data/train/sunrise/'\n",
        "VALID_SUNRISE_DIR = '/content/weather-data/validation/sunrise/'"
      ],
      "metadata": {
        "id": "pVuyGnvfKa_V"
      },
      "execution_count": 22,
      "outputs": []
    },
    {
      "cell_type": "code",
      "source": [
        "import random\n",
        "from shutil import copyfile\n",
        "\n",
        "split_size = .85\n",
        "\n",
        "split_data(CLOUDY_SOURCE_DIR, TRAINING_CLOUDY_DIR, VALID_CLOUDY_DIR, split_size)\n",
        "split_data(FOGGY_SOURCE_DIR, TRAINING_FOGGY_DIR, VALID_FOGGY_DIR, split_size)\n",
        "split_data(RAINY_SOURCE_DIR, TRAINING_RAINY_DIR, VALID_RAINY_DIR, split_size)\n",
        "split_data(SHINE_SOURCE_DIR, TRAINING_SHINE_DIR, VALID_SHINE_DIR, split_size)\n",
        "split_data(SUNRISE_SOURCE_DIR, TRAINING_SUNRISE_DIR, VALID_SUNRISE_DIR, split_size)"
      ],
      "metadata": {
        "id": "reShTGJCKbCv"
      },
      "execution_count": 23,
      "outputs": []
    },
    {
      "cell_type": "code",
      "source": [
        "import os\n",
        "import matplotlib.pyplot as plt\n",
        "import matplotlib.image as mpimg\n",
        "\n",
        "def show_images(directory):\n",
        "    fig = plt.figure(figsize=(10, 10))\n",
        "    images = os.listdir(directory)\n",
        "    num_images = len(images)\n",
        "    rows = 3\n",
        "    columns = num_images // rows + 1\n",
        "\n",
        "    for i, img_name in enumerate(images):\n",
        "        img_path = os.path.join(directory, img_name)\n",
        "        img = mpimg.imread(img_path)\n",
        "        ax = fig.add_subplot(rows, columns, i+1)\n",
        "        ax.imshow(img)\n",
        "        ax.axis('off')\n",
        "\n",
        "    plt.show()\n",
        "\n",
        "# Example usage to show images from the training directory of cloudy weather\n",
        "#show_images(TRAINING_CLOUDY_DIR)\n"
      ],
      "metadata": {
        "id": "Gu9O04685LvE"
      },
      "execution_count": 24,
      "outputs": []
    },
    {
      "cell_type": "code",
      "source": [
        "import plotly.express as px\n",
        "import matplotlib.pyplot as plt\n",
        "import seaborn as sns\n",
        "from matplotlib.image import imread\n",
        "import pathlib\n",
        "import numpy as np\n",
        "\n",
        "image_folder = ['cloudy', 'foggy', 'rainy', 'shine', 'sunrise']\n",
        "img = {}\n",
        "for i in image_folder:\n",
        "    images = len(os.listdir('/content/weather-data/train/' + i + '/'))\n",
        "    img[i] = images\n",
        "\n",
        "fig = px.bar(x=list(img.keys()), y=list(img.values()))\n",
        "fig.update_layout(\n",
        "    title={\n",
        "        'text': 'Distribution of different classes in Training Dataset',\n",
        "        'x': 0.5,\n",
        "        'xanchor': 'center',\n",
        "        'yanchor': 'top'\n",
        "    },\n",
        "    xaxis_title='Weather Condition',\n",
        "    yaxis_title='Number of Images'\n",
        ")\n",
        "\n",
        "# Adjust x-axis tick positions\n",
        "fig.update_xaxes(tickvals=np.arange(len(img)) + 0.5, ticktext=list(img.keys()))\n",
        "\n",
        "fig.show()"
      ],
      "metadata": {
        "colab": {
          "base_uri": "https://localhost:8080/",
          "height": 542
        },
        "id": "3lEKiUpnKbGk",
        "outputId": "32767932-cdef-4058-e34e-581df74b36b8"
      },
      "execution_count": 25,
      "outputs": [
        {
          "output_type": "display_data",
          "data": {
            "text/html": [
              "<html>\n",
              "<head><meta charset=\"utf-8\" /></head>\n",
              "<body>\n",
              "    <div>            <script src=\"https://cdnjs.cloudflare.com/ajax/libs/mathjax/2.7.5/MathJax.js?config=TeX-AMS-MML_SVG\"></script><script type=\"text/javascript\">if (window.MathJax && window.MathJax.Hub && window.MathJax.Hub.Config) {window.MathJax.Hub.Config({SVG: {font: \"STIX-Web\"}});}</script>                <script type=\"text/javascript\">window.PlotlyConfig = {MathJaxConfig: 'local'};</script>\n",
              "        <script charset=\"utf-8\" src=\"https://cdn.plot.ly/plotly-2.24.1.min.js\"></script>                <div id=\"66636995-07bd-4329-a0f0-95b03b232d67\" class=\"plotly-graph-div\" style=\"height:525px; width:100%;\"></div>            <script type=\"text/javascript\">                                    window.PLOTLYENV=window.PLOTLYENV || {};                                    if (document.getElementById(\"66636995-07bd-4329-a0f0-95b03b232d67\")) {                    Plotly.newPlot(                        \"66636995-07bd-4329-a0f0-95b03b232d67\",                        [{\"alignmentgroup\":\"True\",\"hovertemplate\":\"x=%{x}\\u003cbr\\u003ey=%{y}\\u003cextra\\u003e\\u003c\\u002fextra\\u003e\",\"legendgroup\":\"\",\"marker\":{\"color\":\"#636efa\",\"pattern\":{\"shape\":\"\"}},\"name\":\"\",\"offsetgroup\":\"\",\"orientation\":\"v\",\"showlegend\":false,\"textposition\":\"auto\",\"x\":[\"cloudy\",\"foggy\",\"rainy\",\"shine\",\"sunrise\"],\"xaxis\":\"x\",\"y\":[255,255,255,212,297],\"yaxis\":\"y\",\"type\":\"bar\"}],                        {\"template\":{\"data\":{\"histogram2dcontour\":[{\"type\":\"histogram2dcontour\",\"colorbar\":{\"outlinewidth\":0,\"ticks\":\"\"},\"colorscale\":[[0.0,\"#0d0887\"],[0.1111111111111111,\"#46039f\"],[0.2222222222222222,\"#7201a8\"],[0.3333333333333333,\"#9c179e\"],[0.4444444444444444,\"#bd3786\"],[0.5555555555555556,\"#d8576b\"],[0.6666666666666666,\"#ed7953\"],[0.7777777777777778,\"#fb9f3a\"],[0.8888888888888888,\"#fdca26\"],[1.0,\"#f0f921\"]]}],\"choropleth\":[{\"type\":\"choropleth\",\"colorbar\":{\"outlinewidth\":0,\"ticks\":\"\"}}],\"histogram2d\":[{\"type\":\"histogram2d\",\"colorbar\":{\"outlinewidth\":0,\"ticks\":\"\"},\"colorscale\":[[0.0,\"#0d0887\"],[0.1111111111111111,\"#46039f\"],[0.2222222222222222,\"#7201a8\"],[0.3333333333333333,\"#9c179e\"],[0.4444444444444444,\"#bd3786\"],[0.5555555555555556,\"#d8576b\"],[0.6666666666666666,\"#ed7953\"],[0.7777777777777778,\"#fb9f3a\"],[0.8888888888888888,\"#fdca26\"],[1.0,\"#f0f921\"]]}],\"heatmap\":[{\"type\":\"heatmap\",\"colorbar\":{\"outlinewidth\":0,\"ticks\":\"\"},\"colorscale\":[[0.0,\"#0d0887\"],[0.1111111111111111,\"#46039f\"],[0.2222222222222222,\"#7201a8\"],[0.3333333333333333,\"#9c179e\"],[0.4444444444444444,\"#bd3786\"],[0.5555555555555556,\"#d8576b\"],[0.6666666666666666,\"#ed7953\"],[0.7777777777777778,\"#fb9f3a\"],[0.8888888888888888,\"#fdca26\"],[1.0,\"#f0f921\"]]}],\"heatmapgl\":[{\"type\":\"heatmapgl\",\"colorbar\":{\"outlinewidth\":0,\"ticks\":\"\"},\"colorscale\":[[0.0,\"#0d0887\"],[0.1111111111111111,\"#46039f\"],[0.2222222222222222,\"#7201a8\"],[0.3333333333333333,\"#9c179e\"],[0.4444444444444444,\"#bd3786\"],[0.5555555555555556,\"#d8576b\"],[0.6666666666666666,\"#ed7953\"],[0.7777777777777778,\"#fb9f3a\"],[0.8888888888888888,\"#fdca26\"],[1.0,\"#f0f921\"]]}],\"contourcarpet\":[{\"type\":\"contourcarpet\",\"colorbar\":{\"outlinewidth\":0,\"ticks\":\"\"}}],\"contour\":[{\"type\":\"contour\",\"colorbar\":{\"outlinewidth\":0,\"ticks\":\"\"},\"colorscale\":[[0.0,\"#0d0887\"],[0.1111111111111111,\"#46039f\"],[0.2222222222222222,\"#7201a8\"],[0.3333333333333333,\"#9c179e\"],[0.4444444444444444,\"#bd3786\"],[0.5555555555555556,\"#d8576b\"],[0.6666666666666666,\"#ed7953\"],[0.7777777777777778,\"#fb9f3a\"],[0.8888888888888888,\"#fdca26\"],[1.0,\"#f0f921\"]]}],\"surface\":[{\"type\":\"surface\",\"colorbar\":{\"outlinewidth\":0,\"ticks\":\"\"},\"colorscale\":[[0.0,\"#0d0887\"],[0.1111111111111111,\"#46039f\"],[0.2222222222222222,\"#7201a8\"],[0.3333333333333333,\"#9c179e\"],[0.4444444444444444,\"#bd3786\"],[0.5555555555555556,\"#d8576b\"],[0.6666666666666666,\"#ed7953\"],[0.7777777777777778,\"#fb9f3a\"],[0.8888888888888888,\"#fdca26\"],[1.0,\"#f0f921\"]]}],\"mesh3d\":[{\"type\":\"mesh3d\",\"colorbar\":{\"outlinewidth\":0,\"ticks\":\"\"}}],\"scatter\":[{\"fillpattern\":{\"fillmode\":\"overlay\",\"size\":10,\"solidity\":0.2},\"type\":\"scatter\"}],\"parcoords\":[{\"type\":\"parcoords\",\"line\":{\"colorbar\":{\"outlinewidth\":0,\"ticks\":\"\"}}}],\"scatterpolargl\":[{\"type\":\"scatterpolargl\",\"marker\":{\"colorbar\":{\"outlinewidth\":0,\"ticks\":\"\"}}}],\"bar\":[{\"error_x\":{\"color\":\"#2a3f5f\"},\"error_y\":{\"color\":\"#2a3f5f\"},\"marker\":{\"line\":{\"color\":\"#E5ECF6\",\"width\":0.5},\"pattern\":{\"fillmode\":\"overlay\",\"size\":10,\"solidity\":0.2}},\"type\":\"bar\"}],\"scattergeo\":[{\"type\":\"scattergeo\",\"marker\":{\"colorbar\":{\"outlinewidth\":0,\"ticks\":\"\"}}}],\"scatterpolar\":[{\"type\":\"scatterpolar\",\"marker\":{\"colorbar\":{\"outlinewidth\":0,\"ticks\":\"\"}}}],\"histogram\":[{\"marker\":{\"pattern\":{\"fillmode\":\"overlay\",\"size\":10,\"solidity\":0.2}},\"type\":\"histogram\"}],\"scattergl\":[{\"type\":\"scattergl\",\"marker\":{\"colorbar\":{\"outlinewidth\":0,\"ticks\":\"\"}}}],\"scatter3d\":[{\"type\":\"scatter3d\",\"line\":{\"colorbar\":{\"outlinewidth\":0,\"ticks\":\"\"}},\"marker\":{\"colorbar\":{\"outlinewidth\":0,\"ticks\":\"\"}}}],\"scattermapbox\":[{\"type\":\"scattermapbox\",\"marker\":{\"colorbar\":{\"outlinewidth\":0,\"ticks\":\"\"}}}],\"scatterternary\":[{\"type\":\"scatterternary\",\"marker\":{\"colorbar\":{\"outlinewidth\":0,\"ticks\":\"\"}}}],\"scattercarpet\":[{\"type\":\"scattercarpet\",\"marker\":{\"colorbar\":{\"outlinewidth\":0,\"ticks\":\"\"}}}],\"carpet\":[{\"aaxis\":{\"endlinecolor\":\"#2a3f5f\",\"gridcolor\":\"white\",\"linecolor\":\"white\",\"minorgridcolor\":\"white\",\"startlinecolor\":\"#2a3f5f\"},\"baxis\":{\"endlinecolor\":\"#2a3f5f\",\"gridcolor\":\"white\",\"linecolor\":\"white\",\"minorgridcolor\":\"white\",\"startlinecolor\":\"#2a3f5f\"},\"type\":\"carpet\"}],\"table\":[{\"cells\":{\"fill\":{\"color\":\"#EBF0F8\"},\"line\":{\"color\":\"white\"}},\"header\":{\"fill\":{\"color\":\"#C8D4E3\"},\"line\":{\"color\":\"white\"}},\"type\":\"table\"}],\"barpolar\":[{\"marker\":{\"line\":{\"color\":\"#E5ECF6\",\"width\":0.5},\"pattern\":{\"fillmode\":\"overlay\",\"size\":10,\"solidity\":0.2}},\"type\":\"barpolar\"}],\"pie\":[{\"automargin\":true,\"type\":\"pie\"}]},\"layout\":{\"autotypenumbers\":\"strict\",\"colorway\":[\"#636efa\",\"#EF553B\",\"#00cc96\",\"#ab63fa\",\"#FFA15A\",\"#19d3f3\",\"#FF6692\",\"#B6E880\",\"#FF97FF\",\"#FECB52\"],\"font\":{\"color\":\"#2a3f5f\"},\"hovermode\":\"closest\",\"hoverlabel\":{\"align\":\"left\"},\"paper_bgcolor\":\"white\",\"plot_bgcolor\":\"#E5ECF6\",\"polar\":{\"bgcolor\":\"#E5ECF6\",\"angularaxis\":{\"gridcolor\":\"white\",\"linecolor\":\"white\",\"ticks\":\"\"},\"radialaxis\":{\"gridcolor\":\"white\",\"linecolor\":\"white\",\"ticks\":\"\"}},\"ternary\":{\"bgcolor\":\"#E5ECF6\",\"aaxis\":{\"gridcolor\":\"white\",\"linecolor\":\"white\",\"ticks\":\"\"},\"baxis\":{\"gridcolor\":\"white\",\"linecolor\":\"white\",\"ticks\":\"\"},\"caxis\":{\"gridcolor\":\"white\",\"linecolor\":\"white\",\"ticks\":\"\"}},\"coloraxis\":{\"colorbar\":{\"outlinewidth\":0,\"ticks\":\"\"}},\"colorscale\":{\"sequential\":[[0.0,\"#0d0887\"],[0.1111111111111111,\"#46039f\"],[0.2222222222222222,\"#7201a8\"],[0.3333333333333333,\"#9c179e\"],[0.4444444444444444,\"#bd3786\"],[0.5555555555555556,\"#d8576b\"],[0.6666666666666666,\"#ed7953\"],[0.7777777777777778,\"#fb9f3a\"],[0.8888888888888888,\"#fdca26\"],[1.0,\"#f0f921\"]],\"sequentialminus\":[[0.0,\"#0d0887\"],[0.1111111111111111,\"#46039f\"],[0.2222222222222222,\"#7201a8\"],[0.3333333333333333,\"#9c179e\"],[0.4444444444444444,\"#bd3786\"],[0.5555555555555556,\"#d8576b\"],[0.6666666666666666,\"#ed7953\"],[0.7777777777777778,\"#fb9f3a\"],[0.8888888888888888,\"#fdca26\"],[1.0,\"#f0f921\"]],\"diverging\":[[0,\"#8e0152\"],[0.1,\"#c51b7d\"],[0.2,\"#de77ae\"],[0.3,\"#f1b6da\"],[0.4,\"#fde0ef\"],[0.5,\"#f7f7f7\"],[0.6,\"#e6f5d0\"],[0.7,\"#b8e186\"],[0.8,\"#7fbc41\"],[0.9,\"#4d9221\"],[1,\"#276419\"]]},\"xaxis\":{\"gridcolor\":\"white\",\"linecolor\":\"white\",\"ticks\":\"\",\"title\":{\"standoff\":15},\"zerolinecolor\":\"white\",\"automargin\":true,\"zerolinewidth\":2},\"yaxis\":{\"gridcolor\":\"white\",\"linecolor\":\"white\",\"ticks\":\"\",\"title\":{\"standoff\":15},\"zerolinecolor\":\"white\",\"automargin\":true,\"zerolinewidth\":2},\"scene\":{\"xaxis\":{\"backgroundcolor\":\"#E5ECF6\",\"gridcolor\":\"white\",\"linecolor\":\"white\",\"showbackground\":true,\"ticks\":\"\",\"zerolinecolor\":\"white\",\"gridwidth\":2},\"yaxis\":{\"backgroundcolor\":\"#E5ECF6\",\"gridcolor\":\"white\",\"linecolor\":\"white\",\"showbackground\":true,\"ticks\":\"\",\"zerolinecolor\":\"white\",\"gridwidth\":2},\"zaxis\":{\"backgroundcolor\":\"#E5ECF6\",\"gridcolor\":\"white\",\"linecolor\":\"white\",\"showbackground\":true,\"ticks\":\"\",\"zerolinecolor\":\"white\",\"gridwidth\":2}},\"shapedefaults\":{\"line\":{\"color\":\"#2a3f5f\"}},\"annotationdefaults\":{\"arrowcolor\":\"#2a3f5f\",\"arrowhead\":0,\"arrowwidth\":1},\"geo\":{\"bgcolor\":\"white\",\"landcolor\":\"#E5ECF6\",\"subunitcolor\":\"white\",\"showland\":true,\"showlakes\":true,\"lakecolor\":\"white\"},\"title\":{\"x\":0.05},\"mapbox\":{\"style\":\"light\"}}},\"xaxis\":{\"anchor\":\"y\",\"domain\":[0.0,1.0],\"title\":{\"text\":\"Weather Condition\"},\"tickvals\":[0.5,1.5,2.5,3.5,4.5],\"ticktext\":[\"cloudy\",\"foggy\",\"rainy\",\"shine\",\"sunrise\"]},\"yaxis\":{\"anchor\":\"x\",\"domain\":[0.0,1.0],\"title\":{\"text\":\"Number of Images\"}},\"legend\":{\"tracegroupgap\":0},\"margin\":{\"t\":60},\"barmode\":\"relative\",\"title\":{\"text\":\"Distribution of different classes in Training Dataset\",\"x\":0.5,\"xanchor\":\"center\",\"yanchor\":\"top\"}},                        {\"responsive\": true}                    ).then(function(){\n",
              "                            \n",
              "var gd = document.getElementById('66636995-07bd-4329-a0f0-95b03b232d67');\n",
              "var x = new MutationObserver(function (mutations, observer) {{\n",
              "        var display = window.getComputedStyle(gd).display;\n",
              "        if (!display || display === 'none') {{\n",
              "            console.log([gd, 'removed!']);\n",
              "            Plotly.purge(gd);\n",
              "            observer.disconnect();\n",
              "        }}\n",
              "}});\n",
              "\n",
              "// Listen for the removal of the full notebook cells\n",
              "var notebookContainer = gd.closest('#notebook-container');\n",
              "if (notebookContainer) {{\n",
              "    x.observe(notebookContainer, {childList: true});\n",
              "}}\n",
              "\n",
              "// Listen for the clearing of the current output cell\n",
              "var outputEl = gd.closest('.output');\n",
              "if (outputEl) {{\n",
              "    x.observe(outputEl, {childList: true});\n",
              "}}\n",
              "\n",
              "                        })                };                            </script>        </div>\n",
              "</body>\n",
              "</html>"
            ]
          },
          "metadata": {}
        }
      ]
    },
    {
      "cell_type": "code",
      "source": [
        "for i in ['cloudy', 'foggy', 'rainy', 'shine', 'sunrise']:\n",
        "    print('Training {} images are: '.format(i)+str(len(os.listdir('/content/weather-data/train/'+i+'/'))))"
      ],
      "metadata": {
        "colab": {
          "base_uri": "https://localhost:8080/"
        },
        "id": "LA1Bb3KqKbJU",
        "outputId": "4922e34d-fda7-41ff-f8cc-259fdbbcffe0"
      },
      "execution_count": 26,
      "outputs": [
        {
          "output_type": "stream",
          "name": "stdout",
          "text": [
            "Training cloudy images are: 255\n",
            "Training foggy images are: 255\n",
            "Training rainy images are: 255\n",
            "Training shine images are: 212\n",
            "Training sunrise images are: 297\n"
          ]
        }
      ]
    },
    {
      "cell_type": "code",
      "source": [
        "from tensorflow.keras.optimizers import Adam\n",
        "from tensorflow.keras.preprocessing.image import ImageDataGenerator\n",
        "from tensorflow.keras.layers import Conv2D, MaxPooling2D, Flatten, Dense, Dropout\n",
        "from tensorflow.keras.models import Sequential\n",
        "from tensorflow.keras.callbacks import EarlyStopping, ModelCheckpoint"
      ],
      "metadata": {
        "id": "2amrve38KbMh"
      },
      "execution_count": 27,
      "outputs": []
    },
    {
      "cell_type": "code",
      "source": [
        "img_width=256; img_height=256\n",
        "batch_size=16"
      ],
      "metadata": {
        "id": "k2pHhqL6KbP9"
      },
      "execution_count": 28,
      "outputs": []
    },
    {
      "cell_type": "code",
      "source": [
        "rain_dir = '/content/weather-data/train/'\n",
        "\n",
        "train_datagen = ImageDataGenerator(rescale = 1/255.0,\n",
        "                                   rotation_range=30,\n",
        "                                   zoom_range=0.4,\n",
        "                                   horizontal_flip=True)\n",
        "\n",
        "train_generator = train_datagen.flow_from_directory(train_dir,\n",
        "                                                    batch_size=batch_size,\n",
        "                                                    class_mode='categorical',\n",
        "                                                    target_size=(img_height, img_width))"
      ],
      "metadata": {
        "id": "ZShXoJURRQzH",
        "colab": {
          "base_uri": "https://localhost:8080/"
        },
        "outputId": "e146411a-3bac-4325-9d45-0977f2fdf333"
      },
      "execution_count": 29,
      "outputs": [
        {
          "output_type": "stream",
          "name": "stdout",
          "text": [
            "Found 1274 images belonging to 5 classes.\n"
          ]
        }
      ]
    },
    {
      "cell_type": "code",
      "source": [
        "Val_dir = '/content/weather-data/validation/'\n",
        "\n",
        "validation_datagen = ImageDataGenerator(rescale = 1/255.0)\n",
        "\n",
        "validation_generator = validation_datagen.flow_from_directory(Val_dir,\n",
        "                                                              batch_size=batch_size,\n",
        "                                                              class_mode='categorical',\n",
        "                                                              target_size=(img_height, img_width)\n",
        "                                                             )"
      ],
      "metadata": {
        "id": "xaoCHB18RQ2m",
        "colab": {
          "base_uri": "https://localhost:8080/"
        },
        "outputId": "91e9993f-3afc-42d0-d1fc-435934dec0bb"
      },
      "execution_count": 30,
      "outputs": [
        {
          "output_type": "stream",
          "name": "stdout",
          "text": [
            "Found 226 images belonging to 5 classes.\n"
          ]
        }
      ]
    },
    {
      "cell_type": "code",
      "source": [
        "callbacks = EarlyStopping(monitor='val_loss', patience=5, verbose=1, mode='auto')\n",
        "# autosave best Model\n",
        "best_model_file = '/content/CNN_aug_best_weights.h5'\n",
        "best_model = ModelCheckpoint(best_model_file, monitor='val_acc', verbose = 1, save_best_only = True)"
      ],
      "metadata": {
        "id": "sf9qCfpoRQ6K"
      },
      "execution_count": 31,
      "outputs": []
    },
    {
      "cell_type": "code",
      "source": [
        "model = Sequential([\n",
        "    Conv2D(16, (3, 3), activation='relu', input_shape=(img_height, img_width, 3)), MaxPooling2D(2, 2),\n",
        "    Conv2D(32, (3, 3), activation='relu'), MaxPooling2D(2, 2),\n",
        "    Conv2D(64, (3, 3), activation='relu'),\n",
        "    Conv2D(64, (3, 3), activation='relu'),\n",
        "    MaxPooling2D(2, 2),\n",
        "    Conv2D(128, (3, 3), activation='relu'),\n",
        "    Conv2D(128, (3, 3), activation='relu'),\n",
        "    MaxPooling2D(2, 2),\n",
        "    Conv2D(256, (3, 3), activation='relu'),\n",
        "    Conv2D(256, (3, 3), activation='relu'),\n",
        "    Conv2D(256, (3, 3), activation='relu'),\n",
        "    MaxPooling2D(2, 2),\n",
        "    Flatten(),\n",
        "    Dense(512, activation='relu'),\n",
        "    Dense(512, activation='relu'),\n",
        "    Dense(5, activation='softmax')\n",
        "])\n",
        "model.summary()"
      ],
      "metadata": {
        "id": "OYzvUvfoRQ88",
        "colab": {
          "base_uri": "https://localhost:8080/"
        },
        "outputId": "2668c0c3-b7aa-42a7-89a4-ba17b4bae428"
      },
      "execution_count": 32,
      "outputs": [
        {
          "output_type": "stream",
          "name": "stdout",
          "text": [
            "Model: \"sequential\"\n",
            "_________________________________________________________________\n",
            " Layer (type)                Output Shape              Param #   \n",
            "=================================================================\n",
            " conv2d (Conv2D)             (None, 254, 254, 16)      448       \n",
            "                                                                 \n",
            " max_pooling2d (MaxPooling2  (None, 127, 127, 16)      0         \n",
            " D)                                                              \n",
            "                                                                 \n",
            " conv2d_1 (Conv2D)           (None, 125, 125, 32)      4640      \n",
            "                                                                 \n",
            " max_pooling2d_1 (MaxPoolin  (None, 62, 62, 32)        0         \n",
            " g2D)                                                            \n",
            "                                                                 \n",
            " conv2d_2 (Conv2D)           (None, 60, 60, 64)        18496     \n",
            "                                                                 \n",
            " conv2d_3 (Conv2D)           (None, 58, 58, 64)        36928     \n",
            "                                                                 \n",
            " max_pooling2d_2 (MaxPoolin  (None, 29, 29, 64)        0         \n",
            " g2D)                                                            \n",
            "                                                                 \n",
            " conv2d_4 (Conv2D)           (None, 27, 27, 128)       73856     \n",
            "                                                                 \n",
            " conv2d_5 (Conv2D)           (None, 25, 25, 128)       147584    \n",
            "                                                                 \n",
            " max_pooling2d_3 (MaxPoolin  (None, 12, 12, 128)       0         \n",
            " g2D)                                                            \n",
            "                                                                 \n",
            " conv2d_6 (Conv2D)           (None, 10, 10, 256)       295168    \n",
            "                                                                 \n",
            " conv2d_7 (Conv2D)           (None, 8, 8, 256)         590080    \n",
            "                                                                 \n",
            " conv2d_8 (Conv2D)           (None, 6, 6, 256)         590080    \n",
            "                                                                 \n",
            " max_pooling2d_4 (MaxPoolin  (None, 3, 3, 256)         0         \n",
            " g2D)                                                            \n",
            "                                                                 \n",
            " flatten (Flatten)           (None, 2304)              0         \n",
            "                                                                 \n",
            " dense (Dense)               (None, 512)               1180160   \n",
            "                                                                 \n",
            " dense_1 (Dense)             (None, 512)               262656    \n",
            "                                                                 \n",
            " dense_2 (Dense)             (None, 5)                 2565      \n",
            "                                                                 \n",
            "=================================================================\n",
            "Total params: 3202661 (12.22 MB)\n",
            "Trainable params: 3202661 (12.22 MB)\n",
            "Non-trainable params: 0 (0.00 Byte)\n",
            "_________________________________________________________________\n"
          ]
        }
      ]
    },
    {
      "cell_type": "code",
      "source": [
        "model.compile(optimizer='Adam',\n",
        "              loss='categorical_crossentropy',\n",
        "              metrics =['accuracy'])"
      ],
      "metadata": {
        "id": "VepE86cURRAJ"
      },
      "execution_count": 33,
      "outputs": []
    },
    {
      "cell_type": "code",
      "source": [
        "history = model.fit_generator(train_generator,\n",
        "                              epochs=50,\n",
        "                              verbose=1,\n",
        "                              validation_data=validation_generator,\n",
        "                              callbacks = [best_model]\n",
        "                              )"
      ],
      "metadata": {
        "id": "xPchdesmRRDR",
        "colab": {
          "base_uri": "https://localhost:8080/"
        },
        "outputId": "6431d909-43cb-4005-eeb3-b1d9963cac98"
      },
      "execution_count": 35,
      "outputs": [
        {
          "metadata": {
            "tags": null
          },
          "name": "stdout",
          "output_type": "stream",
          "text": [
            "Epoch 1/50\n",
            "80/80 [==============================] - ETA: 0s - loss: 0.8550 - accuracy: 0.6217"
          ]
        },
        {
          "metadata": {
            "tags": null
          },
          "name": "stderr",
          "output_type": "stream",
          "text": [
            "WARNING:tensorflow:Can save best model only with val_acc available, skipping.\n"
          ]
        },
        {
          "metadata": {
            "tags": null
          },
          "name": "stdout",
          "output_type": "stream",
          "text": [
            "80/80 [==============================] - 25s 313ms/step - loss: 0.8550 - accuracy: 0.6217 - val_loss: 1.0041 - val_accuracy: 0.6283\n",
            "Epoch 2/50\n",
            "80/80 [==============================] - ETA: 0s - loss: 0.8131 - accuracy: 0.6374"
          ]
        },
        {
          "metadata": {
            "tags": null
          },
          "name": "stderr",
          "output_type": "stream",
          "text": [
            "WARNING:tensorflow:Can save best model only with val_acc available, skipping.\n"
          ]
        },
        {
          "metadata": {
            "tags": null
          },
          "name": "stdout",
          "output_type": "stream",
          "text": [
            "80/80 [==============================] - 25s 314ms/step - loss: 0.8131 - accuracy: 0.6374 - val_loss: 0.8462 - val_accuracy: 0.7035\n",
            "Epoch 3/50\n",
            "80/80 [==============================] - ETA: 0s - loss: 0.7972 - accuracy: 0.6413"
          ]
        },
        {
          "metadata": {
            "tags": null
          },
          "name": "stderr",
          "output_type": "stream",
          "text": [
            "WARNING:tensorflow:Can save best model only with val_acc available, skipping.\n"
          ]
        },
        {
          "metadata": {
            "tags": null
          },
          "name": "stdout",
          "output_type": "stream",
          "text": [
            "80/80 [==============================] - 24s 298ms/step - loss: 0.7972 - accuracy: 0.6413 - val_loss: 0.8165 - val_accuracy: 0.6947\n",
            "Epoch 4/50\n",
            "80/80 [==============================] - ETA: 0s - loss: 0.8269 - accuracy: 0.6224"
          ]
        },
        {
          "metadata": {
            "tags": null
          },
          "name": "stderr",
          "output_type": "stream",
          "text": [
            "WARNING:tensorflow:Can save best model only with val_acc available, skipping.\n"
          ]
        },
        {
          "metadata": {
            "tags": null
          },
          "name": "stdout",
          "output_type": "stream",
          "text": [
            "80/80 [==============================] - 24s 300ms/step - loss: 0.8269 - accuracy: 0.6224 - val_loss: 0.9149 - val_accuracy: 0.5619\n",
            "Epoch 5/50\n",
            "80/80 [==============================] - ETA: 0s - loss: 0.8232 - accuracy: 0.6138"
          ]
        },
        {
          "metadata": {
            "tags": null
          },
          "name": "stderr",
          "output_type": "stream",
          "text": [
            "WARNING:tensorflow:Can save best model only with val_acc available, skipping.\n"
          ]
        },
        {
          "metadata": {
            "tags": null
          },
          "name": "stdout",
          "output_type": "stream",
          "text": [
            "80/80 [==============================] - 24s 306ms/step - loss: 0.8232 - accuracy: 0.6138 - val_loss: 0.8350 - val_accuracy: 0.6726\n",
            "Epoch 6/50\n",
            "80/80 [==============================] - ETA: 0s - loss: 0.7676 - accuracy: 0.6868"
          ]
        },
        {
          "metadata": {
            "tags": null
          },
          "name": "stderr",
          "output_type": "stream",
          "text": [
            "WARNING:tensorflow:Can save best model only with val_acc available, skipping.\n"
          ]
        },
        {
          "metadata": {
            "tags": null
          },
          "name": "stdout",
          "output_type": "stream",
          "text": [
            "80/80 [==============================] - 24s 299ms/step - loss: 0.7676 - accuracy: 0.6868 - val_loss: 0.8074 - val_accuracy: 0.6637\n",
            "Epoch 7/50\n",
            "80/80 [==============================] - ETA: 0s - loss: 0.7643 - accuracy: 0.6641"
          ]
        },
        {
          "metadata": {
            "tags": null
          },
          "name": "stderr",
          "output_type": "stream",
          "text": [
            "WARNING:tensorflow:Can save best model only with val_acc available, skipping.\n"
          ]
        },
        {
          "metadata": {
            "tags": null
          },
          "name": "stdout",
          "output_type": "stream",
          "text": [
            "80/80 [==============================] - 24s 301ms/step - loss: 0.7643 - accuracy: 0.6641 - val_loss: 0.9388 - val_accuracy: 0.6770\n",
            "Epoch 8/50\n",
            "80/80 [==============================] - ETA: 0s - loss: 0.7708 - accuracy: 0.6868"
          ]
        },
        {
          "metadata": {
            "tags": null
          },
          "name": "stderr",
          "output_type": "stream",
          "text": [
            "WARNING:tensorflow:Can save best model only with val_acc available, skipping.\n"
          ]
        },
        {
          "metadata": {
            "tags": null
          },
          "name": "stdout",
          "output_type": "stream",
          "text": [
            "80/80 [==============================] - 24s 303ms/step - loss: 0.7708 - accuracy: 0.6868 - val_loss: 0.8192 - val_accuracy: 0.7345\n",
            "Epoch 9/50\n",
            "80/80 [==============================] - ETA: 0s - loss: 0.7450 - accuracy: 0.6852"
          ]
        },
        {
          "metadata": {
            "tags": null
          },
          "name": "stderr",
          "output_type": "stream",
          "text": [
            "WARNING:tensorflow:Can save best model only with val_acc available, skipping.\n"
          ]
        },
        {
          "metadata": {
            "tags": null
          },
          "name": "stdout",
          "output_type": "stream",
          "text": [
            "80/80 [==============================] - 24s 300ms/step - loss: 0.7450 - accuracy: 0.6852 - val_loss: 0.7988 - val_accuracy: 0.6947\n",
            "Epoch 10/50\n",
            "80/80 [==============================] - ETA: 0s - loss: 0.7251 - accuracy: 0.6907"
          ]
        },
        {
          "metadata": {
            "tags": null
          },
          "name": "stderr",
          "output_type": "stream",
          "text": [
            "WARNING:tensorflow:Can save best model only with val_acc available, skipping.\n"
          ]
        },
        {
          "metadata": {
            "tags": null
          },
          "name": "stdout",
          "output_type": "stream",
          "text": [
            "80/80 [==============================] - 24s 305ms/step - loss: 0.7251 - accuracy: 0.6907 - val_loss: 0.7707 - val_accuracy: 0.7168\n",
            "Epoch 11/50\n",
            "80/80 [==============================] - ETA: 0s - loss: 0.7063 - accuracy: 0.7096"
          ]
        },
        {
          "metadata": {
            "tags": null
          },
          "name": "stderr",
          "output_type": "stream",
          "text": [
            "WARNING:tensorflow:Can save best model only with val_acc available, skipping.\n"
          ]
        },
        {
          "metadata": {
            "tags": null
          },
          "name": "stdout",
          "output_type": "stream",
          "text": [
            "80/80 [==============================] - 25s 306ms/step - loss: 0.7063 - accuracy: 0.7096 - val_loss: 0.7811 - val_accuracy: 0.7035\n",
            "Epoch 12/50\n",
            "80/80 [==============================] - ETA: 0s - loss: 0.7040 - accuracy: 0.7253"
          ]
        },
        {
          "metadata": {
            "tags": null
          },
          "name": "stderr",
          "output_type": "stream",
          "text": [
            "WARNING:tensorflow:Can save best model only with val_acc available, skipping.\n"
          ]
        },
        {
          "metadata": {
            "tags": null
          },
          "name": "stdout",
          "output_type": "stream",
          "text": [
            "80/80 [==============================] - 25s 318ms/step - loss: 0.7040 - accuracy: 0.7253 - val_loss: 0.7778 - val_accuracy: 0.7212\n",
            "Epoch 13/50\n",
            "80/80 [==============================] - ETA: 0s - loss: 0.6901 - accuracy: 0.7284"
          ]
        },
        {
          "metadata": {
            "tags": null
          },
          "name": "stderr",
          "output_type": "stream",
          "text": [
            "WARNING:tensorflow:Can save best model only with val_acc available, skipping.\n"
          ]
        },
        {
          "metadata": {
            "tags": null
          },
          "name": "stdout",
          "output_type": "stream",
          "text": [
            "80/80 [==============================] - 24s 304ms/step - loss: 0.6901 - accuracy: 0.7284 - val_loss: 0.7369 - val_accuracy: 0.6903\n",
            "Epoch 14/50\n",
            "80/80 [==============================] - ETA: 0s - loss: 0.6746 - accuracy: 0.7331"
          ]
        },
        {
          "metadata": {
            "tags": null
          },
          "name": "stderr",
          "output_type": "stream",
          "text": [
            "WARNING:tensorflow:Can save best model only with val_acc available, skipping.\n"
          ]
        },
        {
          "metadata": {
            "tags": null
          },
          "name": "stdout",
          "output_type": "stream",
          "text": [
            "80/80 [==============================] - 25s 316ms/step - loss: 0.6746 - accuracy: 0.7331 - val_loss: 0.7457 - val_accuracy: 0.7168\n",
            "Epoch 15/50\n",
            "80/80 [==============================] - ETA: 0s - loss: 0.6883 - accuracy: 0.7410"
          ]
        },
        {
          "metadata": {
            "tags": null
          },
          "name": "stderr",
          "output_type": "stream",
          "text": [
            "WARNING:tensorflow:Can save best model only with val_acc available, skipping.\n"
          ]
        },
        {
          "metadata": {
            "tags": null
          },
          "name": "stdout",
          "output_type": "stream",
          "text": [
            "80/80 [==============================] - 24s 299ms/step - loss: 0.6883 - accuracy: 0.7410 - val_loss: 0.7933 - val_accuracy: 0.7035\n",
            "Epoch 16/50\n",
            "80/80 [==============================] - ETA: 0s - loss: 0.6757 - accuracy: 0.7292"
          ]
        },
        {
          "metadata": {
            "tags": null
          },
          "name": "stderr",
          "output_type": "stream",
          "text": [
            "WARNING:tensorflow:Can save best model only with val_acc available, skipping.\n"
          ]
        },
        {
          "metadata": {
            "tags": null
          },
          "name": "stdout",
          "output_type": "stream",
          "text": [
            "80/80 [==============================] - 25s 311ms/step - loss: 0.6757 - accuracy: 0.7292 - val_loss: 0.7823 - val_accuracy: 0.7522\n",
            "Epoch 17/50\n",
            "80/80 [==============================] - ETA: 0s - loss: 0.6642 - accuracy: 0.7253"
          ]
        },
        {
          "metadata": {
            "tags": null
          },
          "name": "stderr",
          "output_type": "stream",
          "text": [
            "WARNING:tensorflow:Can save best model only with val_acc available, skipping.\n"
          ]
        },
        {
          "metadata": {
            "tags": null
          },
          "name": "stdout",
          "output_type": "stream",
          "text": [
            "80/80 [==============================] - 24s 303ms/step - loss: 0.6642 - accuracy: 0.7253 - val_loss: 0.6573 - val_accuracy: 0.7345\n",
            "Epoch 18/50\n",
            "80/80 [==============================] - ETA: 0s - loss: 0.6696 - accuracy: 0.7214"
          ]
        },
        {
          "metadata": {
            "tags": null
          },
          "name": "stderr",
          "output_type": "stream",
          "text": [
            "WARNING:tensorflow:Can save best model only with val_acc available, skipping.\n"
          ]
        },
        {
          "metadata": {
            "tags": null
          },
          "name": "stdout",
          "output_type": "stream",
          "text": [
            "80/80 [==============================] - 24s 305ms/step - loss: 0.6696 - accuracy: 0.7214 - val_loss: 0.7580 - val_accuracy: 0.6991\n",
            "Epoch 19/50\n",
            "80/80 [==============================] - ETA: 0s - loss: 0.6600 - accuracy: 0.7418"
          ]
        },
        {
          "metadata": {
            "tags": null
          },
          "name": "stderr",
          "output_type": "stream",
          "text": [
            "WARNING:tensorflow:Can save best model only with val_acc available, skipping.\n"
          ]
        },
        {
          "metadata": {
            "tags": null
          },
          "name": "stdout",
          "output_type": "stream",
          "text": [
            "80/80 [==============================] - 24s 305ms/step - loss: 0.6600 - accuracy: 0.7418 - val_loss: 0.6522 - val_accuracy: 0.7566\n",
            "Epoch 20/50\n",
            "80/80 [==============================] - ETA: 0s - loss: 0.6135 - accuracy: 0.7692"
          ]
        },
        {
          "metadata": {
            "tags": null
          },
          "name": "stderr",
          "output_type": "stream",
          "text": [
            "WARNING:tensorflow:Can save best model only with val_acc available, skipping.\n"
          ]
        },
        {
          "output_type": "stream",
          "name": "stdout",
          "text": [
            "80/80 [==============================] - 24s 302ms/step - loss: 0.6135 - accuracy: 0.7692 - val_loss: 0.6995 - val_accuracy: 0.7566\n",
            "Epoch 21/50\n",
            "80/80 [==============================] - ETA: 0s - loss: 0.5944 - accuracy: 0.7598"
          ]
        },
        {
          "output_type": "stream",
          "name": "stderr",
          "text": [
            "WARNING:tensorflow:Can save best model only with val_acc available, skipping.\n"
          ]
        },
        {
          "output_type": "stream",
          "name": "stdout",
          "text": [
            "\b\b\b\b\b\b\b\b\b\b\b\b\b\b\b\b\b\b\b\b\b\b\b\b\b\b\b\b\b\b\b\b\b\b\b\b\b\b\b\b\b\b\b\b\b\b\b\b\b\b\b\b\b\b\b\b\b\b\b\b\b\b\b\b\b\b\b\b\b\b\b\b\b\b\b\b\b\b\b\b\b\b\r80/80 [==============================] - 25s 317ms/step - loss: 0.5944 - accuracy: 0.7598 - val_loss: 0.8907 - val_accuracy: 0.7522\n",
            "Epoch 22/50\n",
            "80/80 [==============================] - ETA: 0s - loss: 0.5969 - accuracy: 0.7630"
          ]
        },
        {
          "output_type": "stream",
          "name": "stderr",
          "text": [
            "WARNING:tensorflow:Can save best model only with val_acc available, skipping.\n"
          ]
        },
        {
          "output_type": "stream",
          "name": "stdout",
          "text": [
            "\b\b\b\b\b\b\b\b\b\b\b\b\b\b\b\b\b\b\b\b\b\b\b\b\b\b\b\b\b\b\b\b\b\b\b\b\b\b\b\b\b\b\b\b\b\b\b\b\b\b\b\b\b\b\b\b\b\b\b\b\b\b\b\b\b\b\b\b\b\b\b\b\b\b\b\b\b\b\b\b\b\b\r80/80 [==============================] - 24s 305ms/step - loss: 0.5969 - accuracy: 0.7630 - val_loss: 0.7238 - val_accuracy: 0.7743\n",
            "Epoch 23/50\n",
            "80/80 [==============================] - ETA: 0s - loss: 0.6069 - accuracy: 0.7590"
          ]
        },
        {
          "output_type": "stream",
          "name": "stderr",
          "text": [
            "WARNING:tensorflow:Can save best model only with val_acc available, skipping.\n"
          ]
        },
        {
          "output_type": "stream",
          "name": "stdout",
          "text": [
            "\b\b\b\b\b\b\b\b\b\b\b\b\b\b\b\b\b\b\b\b\b\b\b\b\b\b\b\b\b\b\b\b\b\b\b\b\b\b\b\b\b\b\b\b\b\b\b\b\b\b\b\b\b\b\b\b\b\b\b\b\b\b\b\b\b\b\b\b\b\b\b\b\b\b\b\b\b\b\b\b\b\b\r80/80 [==============================] - 25s 309ms/step - loss: 0.6069 - accuracy: 0.7590 - val_loss: 0.7892 - val_accuracy: 0.7699\n",
            "Epoch 24/50\n",
            "80/80 [==============================] - ETA: 0s - loss: 0.6146 - accuracy: 0.7559"
          ]
        },
        {
          "output_type": "stream",
          "name": "stderr",
          "text": [
            "WARNING:tensorflow:Can save best model only with val_acc available, skipping.\n"
          ]
        },
        {
          "output_type": "stream",
          "name": "stdout",
          "text": [
            "\b\b\b\b\b\b\b\b\b\b\b\b\b\b\b\b\b\b\b\b\b\b\b\b\b\b\b\b\b\b\b\b\b\b\b\b\b\b\b\b\b\b\b\b\b\b\b\b\b\b\b\b\b\b\b\b\b\b\b\b\b\b\b\b\b\b\b\b\b\b\b\b\b\b\b\b\b\b\b\b\b\b\r80/80 [==============================] - 25s 310ms/step - loss: 0.6146 - accuracy: 0.7559 - val_loss: 0.6590 - val_accuracy: 0.7743\n",
            "Epoch 25/50\n",
            "80/80 [==============================] - ETA: 0s - loss: 0.6143 - accuracy: 0.7567"
          ]
        },
        {
          "output_type": "stream",
          "name": "stderr",
          "text": [
            "WARNING:tensorflow:Can save best model only with val_acc available, skipping.\n"
          ]
        },
        {
          "output_type": "stream",
          "name": "stdout",
          "text": [
            "\b\b\b\b\b\b\b\b\b\b\b\b\b\b\b\b\b\b\b\b\b\b\b\b\b\b\b\b\b\b\b\b\b\b\b\b\b\b\b\b\b\b\b\b\b\b\b\b\b\b\b\b\b\b\b\b\b\b\b\b\b\b\b\b\b\b\b\b\b\b\b\b\b\b\b\b\b\b\b\b\b\b\r80/80 [==============================] - 24s 305ms/step - loss: 0.6143 - accuracy: 0.7567 - val_loss: 0.7132 - val_accuracy: 0.7345\n",
            "Epoch 26/50\n",
            "80/80 [==============================] - ETA: 0s - loss: 0.5471 - accuracy: 0.7747"
          ]
        },
        {
          "output_type": "stream",
          "name": "stderr",
          "text": [
            "WARNING:tensorflow:Can save best model only with val_acc available, skipping.\n"
          ]
        },
        {
          "output_type": "stream",
          "name": "stdout",
          "text": [
            "\b\b\b\b\b\b\b\b\b\b\b\b\b\b\b\b\b\b\b\b\b\b\b\b\b\b\b\b\b\b\b\b\b\b\b\b\b\b\b\b\b\b\b\b\b\b\b\b\b\b\b\b\b\b\b\b\b\b\b\b\b\b\b\b\b\b\b\b\b\b\b\b\b\b\b\b\b\b\b\b\b\b\r80/80 [==============================] - 25s 307ms/step - loss: 0.5471 - accuracy: 0.7747 - val_loss: 0.8285 - val_accuracy: 0.7655\n",
            "Epoch 27/50\n",
            "80/80 [==============================] - ETA: 0s - loss: 0.5679 - accuracy: 0.7794"
          ]
        },
        {
          "output_type": "stream",
          "name": "stderr",
          "text": [
            "WARNING:tensorflow:Can save best model only with val_acc available, skipping.\n"
          ]
        },
        {
          "output_type": "stream",
          "name": "stdout",
          "text": [
            "\b\b\b\b\b\b\b\b\b\b\b\b\b\b\b\b\b\b\b\b\b\b\b\b\b\b\b\b\b\b\b\b\b\b\b\b\b\b\b\b\b\b\b\b\b\b\b\b\b\b\b\b\b\b\b\b\b\b\b\b\b\b\b\b\b\b\b\b\b\b\b\b\b\b\b\b\b\b\b\b\b\b\r80/80 [==============================] - 24s 304ms/step - loss: 0.5679 - accuracy: 0.7794 - val_loss: 0.7078 - val_accuracy: 0.7522\n",
            "Epoch 28/50\n",
            "80/80 [==============================] - ETA: 0s - loss: 0.5656 - accuracy: 0.7724"
          ]
        },
        {
          "output_type": "stream",
          "name": "stderr",
          "text": [
            "WARNING:tensorflow:Can save best model only with val_acc available, skipping.\n"
          ]
        },
        {
          "output_type": "stream",
          "name": "stdout",
          "text": [
            "\b\b\b\b\b\b\b\b\b\b\b\b\b\b\b\b\b\b\b\b\b\b\b\b\b\b\b\b\b\b\b\b\b\b\b\b\b\b\b\b\b\b\b\b\b\b\b\b\b\b\b\b\b\b\b\b\b\b\b\b\b\b\b\b\b\b\b\b\b\b\b\b\b\b\b\b\b\b\b\b\b\b\r80/80 [==============================] - 24s 302ms/step - loss: 0.5656 - accuracy: 0.7724 - val_loss: 0.7134 - val_accuracy: 0.7699\n",
            "Epoch 29/50\n",
            "80/80 [==============================] - ETA: 0s - loss: 0.5986 - accuracy: 0.7724"
          ]
        },
        {
          "output_type": "stream",
          "name": "stderr",
          "text": [
            "WARNING:tensorflow:Can save best model only with val_acc available, skipping.\n"
          ]
        },
        {
          "output_type": "stream",
          "name": "stdout",
          "text": [
            "\b\b\b\b\b\b\b\b\b\b\b\b\b\b\b\b\b\b\b\b\b\b\b\b\b\b\b\b\b\b\b\b\b\b\b\b\b\b\b\b\b\b\b\b\b\b\b\b\b\b\b\b\b\b\b\b\b\b\b\b\b\b\b\b\b\b\b\b\b\b\b\b\b\b\b\b\b\b\b\b\b\b\r80/80 [==============================] - 24s 300ms/step - loss: 0.5986 - accuracy: 0.7724 - val_loss: 0.6508 - val_accuracy: 0.7522\n",
            "Epoch 30/50\n",
            "80/80 [==============================] - ETA: 0s - loss: 0.5729 - accuracy: 0.7849"
          ]
        },
        {
          "output_type": "stream",
          "name": "stderr",
          "text": [
            "WARNING:tensorflow:Can save best model only with val_acc available, skipping.\n"
          ]
        },
        {
          "output_type": "stream",
          "name": "stdout",
          "text": [
            "\b\b\b\b\b\b\b\b\b\b\b\b\b\b\b\b\b\b\b\b\b\b\b\b\b\b\b\b\b\b\b\b\b\b\b\b\b\b\b\b\b\b\b\b\b\b\b\b\b\b\b\b\b\b\b\b\b\b\b\b\b\b\b\b\b\b\b\b\b\b\b\b\b\b\b\b\b\b\b\b\b\b\r80/80 [==============================] - 24s 302ms/step - loss: 0.5729 - accuracy: 0.7849 - val_loss: 0.6079 - val_accuracy: 0.7920\n",
            "Epoch 31/50\n",
            "80/80 [==============================] - ETA: 0s - loss: 0.5357 - accuracy: 0.7928"
          ]
        },
        {
          "output_type": "stream",
          "name": "stderr",
          "text": [
            "WARNING:tensorflow:Can save best model only with val_acc available, skipping.\n"
          ]
        },
        {
          "output_type": "stream",
          "name": "stdout",
          "text": [
            "\b\b\b\b\b\b\b\b\b\b\b\b\b\b\b\b\b\b\b\b\b\b\b\b\b\b\b\b\b\b\b\b\b\b\b\b\b\b\b\b\b\b\b\b\b\b\b\b\b\b\b\b\b\b\b\b\b\b\b\b\b\b\b\b\b\b\b\b\b\b\b\b\b\b\b\b\b\b\b\b\b\b\r80/80 [==============================] - 25s 314ms/step - loss: 0.5357 - accuracy: 0.7928 - val_loss: 0.7148 - val_accuracy: 0.7788\n",
            "Epoch 32/50\n",
            "80/80 [==============================] - ETA: 0s - loss: 0.5117 - accuracy: 0.7943"
          ]
        },
        {
          "output_type": "stream",
          "name": "stderr",
          "text": [
            "WARNING:tensorflow:Can save best model only with val_acc available, skipping.\n"
          ]
        },
        {
          "output_type": "stream",
          "name": "stdout",
          "text": [
            "\b\b\b\b\b\b\b\b\b\b\b\b\b\b\b\b\b\b\b\b\b\b\b\b\b\b\b\b\b\b\b\b\b\b\b\b\b\b\b\b\b\b\b\b\b\b\b\b\b\b\b\b\b\b\b\b\b\b\b\b\b\b\b\b\b\b\b\b\b\b\b\b\b\b\b\b\b\b\b\b\b\b\r80/80 [==============================] - 24s 303ms/step - loss: 0.5117 - accuracy: 0.7943 - val_loss: 0.6709 - val_accuracy: 0.7832\n",
            "Epoch 33/50\n",
            "80/80 [==============================] - ETA: 0s - loss: 0.5325 - accuracy: 0.8093"
          ]
        },
        {
          "output_type": "stream",
          "name": "stderr",
          "text": [
            "WARNING:tensorflow:Can save best model only with val_acc available, skipping.\n"
          ]
        },
        {
          "output_type": "stream",
          "name": "stdout",
          "text": [
            "\b\b\b\b\b\b\b\b\b\b\b\b\b\b\b\b\b\b\b\b\b\b\b\b\b\b\b\b\b\b\b\b\b\b\b\b\b\b\b\b\b\b\b\b\b\b\b\b\b\b\b\b\b\b\b\b\b\b\b\b\b\b\b\b\b\b\b\b\b\b\b\b\b\b\b\b\b\b\b\b\b\b\r80/80 [==============================] - 24s 303ms/step - loss: 0.5325 - accuracy: 0.8093 - val_loss: 0.6241 - val_accuracy: 0.8009\n",
            "Epoch 34/50\n",
            "80/80 [==============================] - ETA: 0s - loss: 0.5194 - accuracy: 0.7936"
          ]
        },
        {
          "output_type": "stream",
          "name": "stderr",
          "text": [
            "WARNING:tensorflow:Can save best model only with val_acc available, skipping.\n"
          ]
        },
        {
          "output_type": "stream",
          "name": "stdout",
          "text": [
            "\b\b\b\b\b\b\b\b\b\b\b\b\b\b\b\b\b\b\b\b\b\b\b\b\b\b\b\b\b\b\b\b\b\b\b\b\b\b\b\b\b\b\b\b\b\b\b\b\b\b\b\b\b\b\b\b\b\b\b\b\b\b\b\b\b\b\b\b\b\b\b\b\b\b\b\b\b\b\b\b\b\b\r80/80 [==============================] - 24s 305ms/step - loss: 0.5194 - accuracy: 0.7936 - val_loss: 0.5690 - val_accuracy: 0.8053\n",
            "Epoch 35/50\n",
            "80/80 [==============================] - ETA: 0s - loss: 0.5162 - accuracy: 0.7904"
          ]
        },
        {
          "output_type": "stream",
          "name": "stderr",
          "text": [
            "WARNING:tensorflow:Can save best model only with val_acc available, skipping.\n"
          ]
        },
        {
          "output_type": "stream",
          "name": "stdout",
          "text": [
            "\b\b\b\b\b\b\b\b\b\b\b\b\b\b\b\b\b\b\b\b\b\b\b\b\b\b\b\b\b\b\b\b\b\b\b\b\b\b\b\b\b\b\b\b\b\b\b\b\b\b\b\b\b\b\b\b\b\b\b\b\b\b\b\b\b\b\b\b\b\b\b\b\b\b\b\b\b\b\b\b\b\b\r80/80 [==============================] - 24s 305ms/step - loss: 0.5162 - accuracy: 0.7904 - val_loss: 0.5228 - val_accuracy: 0.8053\n",
            "Epoch 36/50\n",
            "80/80 [==============================] - ETA: 0s - loss: 0.4880 - accuracy: 0.8148"
          ]
        },
        {
          "output_type": "stream",
          "name": "stderr",
          "text": [
            "WARNING:tensorflow:Can save best model only with val_acc available, skipping.\n"
          ]
        },
        {
          "output_type": "stream",
          "name": "stdout",
          "text": [
            "\b\b\b\b\b\b\b\b\b\b\b\b\b\b\b\b\b\b\b\b\b\b\b\b\b\b\b\b\b\b\b\b\b\b\b\b\b\b\b\b\b\b\b\b\b\b\b\b\b\b\b\b\b\b\b\b\b\b\b\b\b\b\b\b\b\b\b\b\b\b\b\b\b\b\b\b\b\b\b\b\b\b\r80/80 [==============================] - 26s 319ms/step - loss: 0.4880 - accuracy: 0.8148 - val_loss: 0.6737 - val_accuracy: 0.7920\n",
            "Epoch 37/50\n",
            "80/80 [==============================] - ETA: 0s - loss: 0.5636 - accuracy: 0.7849"
          ]
        },
        {
          "output_type": "stream",
          "name": "stderr",
          "text": [
            "WARNING:tensorflow:Can save best model only with val_acc available, skipping.\n"
          ]
        },
        {
          "output_type": "stream",
          "name": "stdout",
          "text": [
            "\b\b\b\b\b\b\b\b\b\b\b\b\b\b\b\b\b\b\b\b\b\b\b\b\b\b\b\b\b\b\b\b\b\b\b\b\b\b\b\b\b\b\b\b\b\b\b\b\b\b\b\b\b\b\b\b\b\b\b\b\b\b\b\b\b\b\b\b\b\b\b\b\b\b\b\b\b\b\b\b\b\b\r80/80 [==============================] - 24s 302ms/step - loss: 0.5636 - accuracy: 0.7849 - val_loss: 0.8792 - val_accuracy: 0.7478\n",
            "Epoch 38/50\n",
            "80/80 [==============================] - ETA: 0s - loss: 0.5197 - accuracy: 0.7967"
          ]
        },
        {
          "output_type": "stream",
          "name": "stderr",
          "text": [
            "WARNING:tensorflow:Can save best model only with val_acc available, skipping.\n"
          ]
        },
        {
          "output_type": "stream",
          "name": "stdout",
          "text": [
            "\b\b\b\b\b\b\b\b\b\b\b\b\b\b\b\b\b\b\b\b\b\b\b\b\b\b\b\b\b\b\b\b\b\b\b\b\b\b\b\b\b\b\b\b\b\b\b\b\b\b\b\b\b\b\b\b\b\b\b\b\b\b\b\b\b\b\b\b\b\b\b\b\b\b\b\b\b\b\b\b\b\b\r80/80 [==============================] - 25s 308ms/step - loss: 0.5197 - accuracy: 0.7967 - val_loss: 0.6740 - val_accuracy: 0.8053\n",
            "Epoch 39/50\n",
            "80/80 [==============================] - ETA: 0s - loss: 0.4481 - accuracy: 0.8195"
          ]
        },
        {
          "output_type": "stream",
          "name": "stderr",
          "text": [
            "WARNING:tensorflow:Can save best model only with val_acc available, skipping.\n"
          ]
        },
        {
          "output_type": "stream",
          "name": "stdout",
          "text": [
            "\b\b\b\b\b\b\b\b\b\b\b\b\b\b\b\b\b\b\b\b\b\b\b\b\b\b\b\b\b\b\b\b\b\b\b\b\b\b\b\b\b\b\b\b\b\b\b\b\b\b\b\b\b\b\b\b\b\b\b\b\b\b\b\b\b\b\b\b\b\b\b\b\b\b\b\b\b\b\b\b\b\b\r80/80 [==============================] - 25s 311ms/step - loss: 0.4481 - accuracy: 0.8195 - val_loss: 0.7692 - val_accuracy: 0.7832\n",
            "Epoch 40/50\n",
            "80/80 [==============================] - ETA: 0s - loss: 0.4829 - accuracy: 0.8100"
          ]
        },
        {
          "output_type": "stream",
          "name": "stderr",
          "text": [
            "WARNING:tensorflow:Can save best model only with val_acc available, skipping.\n"
          ]
        },
        {
          "output_type": "stream",
          "name": "stdout",
          "text": [
            "\b\b\b\b\b\b\b\b\b\b\b\b\b\b\b\b\b\b\b\b\b\b\b\b\b\b\b\b\b\b\b\b\b\b\b\b\b\b\b\b\b\b\b\b\b\b\b\b\b\b\b\b\b\b\b\b\b\b\b\b\b\b\b\b\b\b\b\b\b\b\b\b\b\b\b\b\b\b\b\b\b\b\r80/80 [==============================] - 24s 301ms/step - loss: 0.4829 - accuracy: 0.8100 - val_loss: 0.5523 - val_accuracy: 0.8186\n",
            "Epoch 41/50\n",
            "80/80 [==============================] - ETA: 0s - loss: 0.4524 - accuracy: 0.8344"
          ]
        },
        {
          "output_type": "stream",
          "name": "stderr",
          "text": [
            "WARNING:tensorflow:Can save best model only with val_acc available, skipping.\n"
          ]
        },
        {
          "output_type": "stream",
          "name": "stdout",
          "text": [
            "\b\b\b\b\b\b\b\b\b\b\b\b\b\b\b\b\b\b\b\b\b\b\b\b\b\b\b\b\b\b\b\b\b\b\b\b\b\b\b\b\b\b\b\b\b\b\b\b\b\b\b\b\b\b\b\b\b\b\b\b\b\b\b\b\b\b\b\b\b\b\b\b\b\b\b\b\b\b\b\b\b\b\r80/80 [==============================] - 24s 303ms/step - loss: 0.4524 - accuracy: 0.8344 - val_loss: 0.6599 - val_accuracy: 0.7699\n",
            "Epoch 42/50\n",
            "80/80 [==============================] - ETA: 0s - loss: 0.4963 - accuracy: 0.8108"
          ]
        },
        {
          "output_type": "stream",
          "name": "stderr",
          "text": [
            "WARNING:tensorflow:Can save best model only with val_acc available, skipping.\n"
          ]
        },
        {
          "output_type": "stream",
          "name": "stdout",
          "text": [
            "\b\b\b\b\b\b\b\b\b\b\b\b\b\b\b\b\b\b\b\b\b\b\b\b\b\b\b\b\b\b\b\b\b\b\b\b\b\b\b\b\b\b\b\b\b\b\b\b\b\b\b\b\b\b\b\b\b\b\b\b\b\b\b\b\b\b\b\b\b\b\b\b\b\b\b\b\b\b\b\b\b\b\r80/80 [==============================] - 24s 301ms/step - loss: 0.4963 - accuracy: 0.8108 - val_loss: 0.6609 - val_accuracy: 0.7876\n",
            "Epoch 43/50\n",
            "80/80 [==============================] - ETA: 0s - loss: 0.4849 - accuracy: 0.8195"
          ]
        },
        {
          "output_type": "stream",
          "name": "stderr",
          "text": [
            "WARNING:tensorflow:Can save best model only with val_acc available, skipping.\n"
          ]
        },
        {
          "output_type": "stream",
          "name": "stdout",
          "text": [
            "\b\b\b\b\b\b\b\b\b\b\b\b\b\b\b\b\b\b\b\b\b\b\b\b\b\b\b\b\b\b\b\b\b\b\b\b\b\b\b\b\b\b\b\b\b\b\b\b\b\b\b\b\b\b\b\b\b\b\b\b\b\b\b\b\b\b\b\b\b\b\b\b\b\b\b\b\b\b\b\b\b\b\r80/80 [==============================] - 25s 307ms/step - loss: 0.4849 - accuracy: 0.8195 - val_loss: 0.6213 - val_accuracy: 0.7832\n",
            "Epoch 44/50\n",
            "80/80 [==============================] - ETA: 0s - loss: 0.4505 - accuracy: 0.8336"
          ]
        },
        {
          "output_type": "stream",
          "name": "stderr",
          "text": [
            "WARNING:tensorflow:Can save best model only with val_acc available, skipping.\n"
          ]
        },
        {
          "output_type": "stream",
          "name": "stdout",
          "text": [
            "\b\b\b\b\b\b\b\b\b\b\b\b\b\b\b\b\b\b\b\b\b\b\b\b\b\b\b\b\b\b\b\b\b\b\b\b\b\b\b\b\b\b\b\b\b\b\b\b\b\b\b\b\b\b\b\b\b\b\b\b\b\b\b\b\b\b\b\b\b\b\b\b\b\b\b\b\b\b\b\b\b\b\r80/80 [==============================] - 24s 306ms/step - loss: 0.4505 - accuracy: 0.8336 - val_loss: 0.4886 - val_accuracy: 0.8407\n",
            "Epoch 45/50\n",
            "80/80 [==============================] - ETA: 0s - loss: 0.4276 - accuracy: 0.8399"
          ]
        },
        {
          "output_type": "stream",
          "name": "stderr",
          "text": [
            "WARNING:tensorflow:Can save best model only with val_acc available, skipping.\n"
          ]
        },
        {
          "output_type": "stream",
          "name": "stdout",
          "text": [
            "\b\b\b\b\b\b\b\b\b\b\b\b\b\b\b\b\b\b\b\b\b\b\b\b\b\b\b\b\b\b\b\b\b\b\b\b\b\b\b\b\b\b\b\b\b\b\b\b\b\b\b\b\b\b\b\b\b\b\b\b\b\b\b\b\b\b\b\b\b\b\b\b\b\b\b\b\b\b\b\b\b\b\r80/80 [==============================] - 24s 301ms/step - loss: 0.4276 - accuracy: 0.8399 - val_loss: 0.5769 - val_accuracy: 0.7743\n",
            "Epoch 46/50\n",
            "80/80 [==============================] - ETA: 0s - loss: 0.4340 - accuracy: 0.8257"
          ]
        },
        {
          "output_type": "stream",
          "name": "stderr",
          "text": [
            "WARNING:tensorflow:Can save best model only with val_acc available, skipping.\n"
          ]
        },
        {
          "output_type": "stream",
          "name": "stdout",
          "text": [
            "\b\b\b\b\b\b\b\b\b\b\b\b\b\b\b\b\b\b\b\b\b\b\b\b\b\b\b\b\b\b\b\b\b\b\b\b\b\b\b\b\b\b\b\b\b\b\b\b\b\b\b\b\b\b\b\b\b\b\b\b\b\b\b\b\b\b\b\b\b\b\b\b\b\b\b\b\b\b\b\b\b\b\r80/80 [==============================] - 24s 302ms/step - loss: 0.4340 - accuracy: 0.8257 - val_loss: 0.7012 - val_accuracy: 0.7478\n",
            "Epoch 47/50\n",
            "80/80 [==============================] - ETA: 0s - loss: 0.4732 - accuracy: 0.8250"
          ]
        },
        {
          "output_type": "stream",
          "name": "stderr",
          "text": [
            "WARNING:tensorflow:Can save best model only with val_acc available, skipping.\n"
          ]
        },
        {
          "output_type": "stream",
          "name": "stdout",
          "text": [
            "\b\b\b\b\b\b\b\b\b\b\b\b\b\b\b\b\b\b\b\b\b\b\b\b\b\b\b\b\b\b\b\b\b\b\b\b\b\b\b\b\b\b\b\b\b\b\b\b\b\b\b\b\b\b\b\b\b\b\b\b\b\b\b\b\b\b\b\b\b\b\b\b\b\b\b\b\b\b\b\b\b\b\r80/80 [==============================] - 26s 320ms/step - loss: 0.4732 - accuracy: 0.8250 - val_loss: 0.6523 - val_accuracy: 0.7743\n",
            "Epoch 48/50\n",
            "80/80 [==============================] - ETA: 0s - loss: 0.4410 - accuracy: 0.8320"
          ]
        },
        {
          "output_type": "stream",
          "name": "stderr",
          "text": [
            "WARNING:tensorflow:Can save best model only with val_acc available, skipping.\n"
          ]
        },
        {
          "output_type": "stream",
          "name": "stdout",
          "text": [
            "\b\b\b\b\b\b\b\b\b\b\b\b\b\b\b\b\b\b\b\b\b\b\b\b\b\b\b\b\b\b\b\b\b\b\b\b\b\b\b\b\b\b\b\b\b\b\b\b\b\b\b\b\b\b\b\b\b\b\b\b\b\b\b\b\b\b\b\b\b\b\b\b\b\b\b\b\b\b\b\b\b\b\r80/80 [==============================] - 25s 311ms/step - loss: 0.4410 - accuracy: 0.8320 - val_loss: 0.6558 - val_accuracy: 0.7920\n",
            "Epoch 49/50\n",
            "80/80 [==============================] - ETA: 0s - loss: 0.4267 - accuracy: 0.8509"
          ]
        },
        {
          "output_type": "stream",
          "name": "stderr",
          "text": [
            "WARNING:tensorflow:Can save best model only with val_acc available, skipping.\n"
          ]
        },
        {
          "output_type": "stream",
          "name": "stdout",
          "text": [
            "\b\b\b\b\b\b\b\b\b\b\b\b\b\b\b\b\b\b\b\b\b\b\b\b\b\b\b\b\b\b\b\b\b\b\b\b\b\b\b\b\b\b\b\b\b\b\b\b\b\b\b\b\b\b\b\b\b\b\b\b\b\b\b\b\b\b\b\b\b\b\b\b\b\b\b\b\b\b\b\b\b\b\r80/80 [==============================] - 24s 299ms/step - loss: 0.4267 - accuracy: 0.8509 - val_loss: 0.5967 - val_accuracy: 0.8230\n",
            "Epoch 50/50\n",
            "80/80 [==============================] - ETA: 0s - loss: 0.4145 - accuracy: 0.8399"
          ]
        },
        {
          "output_type": "stream",
          "name": "stderr",
          "text": [
            "WARNING:tensorflow:Can save best model only with val_acc available, skipping.\n"
          ]
        },
        {
          "output_type": "stream",
          "name": "stdout",
          "text": [
            "\b\b\b\b\b\b\b\b\b\b\b\b\b\b\b\b\b\b\b\b\b\b\b\b\b\b\b\b\b\b\b\b\b\b\b\b\b\b\b\b\b\b\b\b\b\b\b\b\b\b\b\b\b\b\b\b\b\b\b\b\b\b\b\b\b\b\b\b\b\b\b\b\b\b\b\b\b\b\b\b\b\b\r80/80 [==============================] - 25s 311ms/step - loss: 0.4145 - accuracy: 0.8399 - val_loss: 0.5942 - val_accuracy: 0.7965\n"
          ]
        }
      ]
    },
    {
      "cell_type": "code",
      "source": [
        "acc=history.history['accuracy']\n",
        "val_acc=history.history['val_accuracy']\n",
        "loss=history.history['loss']\n",
        "val_loss=history.history['val_loss']\n",
        "\n",
        "epochs=range(len(acc))\n",
        "\n",
        "fig = plt.figure(figsize=(14,7))\n",
        "plt.plot(epochs, acc, 'r', label=\"Training Accuracy\")\n",
        "plt.plot(epochs, val_acc, 'b', label=\"Validation Accuracy\")\n",
        "plt.xlabel('Epoch')\n",
        "plt.ylabel('Accuracy')\n",
        "plt.title('Training and validation accuracy')\n",
        "plt.legend(loc='lower right')\n",
        "plt.show()"
      ],
      "metadata": {
        "id": "euocEHeXAOH7",
        "colab": {
          "base_uri": "https://localhost:8080/",
          "height": 641
        },
        "outputId": "e5a99a31-e11c-400f-e9f2-7c2a56dfb8a7"
      },
      "execution_count": 36,
      "outputs": [
        {
          "output_type": "display_data",
          "data": {
            "text/plain": [
              "<Figure size 1400x700 with 1 Axes>"
            ],
            "image/png": "[encoded data removed]"
          },
          "metadata": {}
        }
      ]
    },
    {
      "cell_type": "code",
      "source": [
        "fig2 = plt.figure(figsize=(14,7))\n",
        "plt.plot(epochs, loss, 'r', label=\"Training Loss\")\n",
        "plt.plot(epochs, val_loss, 'b', label=\"Validation Loss\")\n",
        "plt.legend(loc='upper right')\n",
        "plt.xlabel('Epoch')\n",
        "plt.ylabel('Loss')\n",
        "plt.title('Training and validation loss')"
      ],
      "metadata": {
        "colab": {
          "base_uri": "https://localhost:8080/",
          "height": 658
        },
        "id": "AaacDG_l7TSY",
        "outputId": "7a6770ee-3fc5-4874-9d5c-164e95b91fb8"
      },
      "execution_count": 37,
      "outputs": [
        {
          "output_type": "execute_result",
          "data": {
            "text/plain": [
              "Text(0.5, 1.0, 'Training and validation loss')"
            ]
          },
          "metadata": {},
          "execution_count": 37
        },
        {
          "output_type": "display_data",
          "data": {
            "text/plain": [
              "<Figure size 1400x700 with 1 Axes>"
            ],
            "image/png": "[encoded data removed]"
          },
          "metadata": {}
        }
      ]
    },
    {
      "cell_type": "code",
      "source": [
        "## Test Performance on Test Data\n",
        "import pandas as pd\n",
        "import numpy as np\n",
        "from keras.preprocessing.image import load_img, img_to_array\n",
        "\n",
        "def preprocess_image(path):\n",
        "    img = load_img(path, target_size = (img_height, img_width))\n",
        "    a = img_to_array(img)\n",
        "    a = np.expand_dims(a, axis = 0)\n",
        "    a /= 255.\n",
        "    return a"
      ],
      "metadata": {
        "id": "0guMyBy67Ta_"
      },
      "execution_count": 38,
      "outputs": []
    },
    {
      "cell_type": "code",
      "source": [
        "# Read Test Images Dir and their labels\n",
        "test_images_dir = '/content/dataset/alien_test/'\n",
        "test_df = pd.read_csv('/content/dataset/test.csv')\n",
        "\n",
        "# put them in a list\n",
        "test_dfToList = test_df['Image_id'].tolist()\n",
        "test_ids = [str(item) for item in test_dfToList]\n",
        "\n",
        "test_images = [test_images_dir+item for item in test_ids]\n",
        "test_preprocessed_images = np.vstack([preprocess_image(fn) for fn in test_images])\n",
        "np.save('/content/test_preproc_CNN.npy', test_preprocessed_images)"
      ],
      "metadata": {
        "id": "Gu3swa_e7Tku"
      },
      "execution_count": 39,
      "outputs": []
    },
    {
      "cell_type": "code",
      "source": [
        "array = model.predict(test_preprocessed_images, batch_size=1, verbose=1)\n",
        "answer = np.argmax(array, axis=1)\n",
        "print(answer)"
      ],
      "metadata": {
        "colab": {
          "base_uri": "https://localhost:8080/"
        },
        "id": "J-0TOnu27hnp",
        "outputId": "ac26145e-2d5e-49ee-d6b4-c79c9f46bdc3"
      },
      "execution_count": 40,
      "outputs": [
        {
          "output_type": "stream",
          "name": "stdout",
          "text": [
            "30/30 [==============================] - 1s 2ms/step\n",
            "[1 0 3 3 2 2 2 1 0 1 4 3 2 0 2 2 2 2 2 2 3 3 3 4 4 4 2 4 4 4]\n"
          ]
        }
      ]
    },
    {
      "cell_type": "code",
      "source": [
        "test_df = pd.read_csv('/content/dataset/test.csv')\n",
        "y_true = test_df['labels']\n",
        "y_pred = array\n",
        "print(y_true)"
      ],
      "metadata": {
        "colab": {
          "base_uri": "https://localhost:8080/"
        },
        "id": "wkGSWaMQ7hrI",
        "outputId": "1a0d463a-6031-4083-a091-fec9a97ec5bc"
      },
      "execution_count": 41,
      "outputs": [
        {
          "output_type": "stream",
          "name": "stdout",
          "text": [
            "0     0\n",
            "1     0\n",
            "2     0\n",
            "3     0\n",
            "4     1\n",
            "5     1\n",
            "6     1\n",
            "7     1\n",
            "8     1\n",
            "9     1\n",
            "10    1\n",
            "11    1\n",
            "12    1\n",
            "13    1\n",
            "14    2\n",
            "15    2\n",
            "16    2\n",
            "17    2\n",
            "18    2\n",
            "19    2\n",
            "20    3\n",
            "21    3\n",
            "22    3\n",
            "23    4\n",
            "24    4\n",
            "25    4\n",
            "26    4\n",
            "27    4\n",
            "28    4\n",
            "29    4\n",
            "Name: labels, dtype: int64\n"
          ]
        }
      ]
    },
    {
      "cell_type": "code",
      "source": [
        "from sklearn.metrics import log_loss\n",
        "loss = log_loss(y_true, y_pred, eps=1e-15, normalize=True, sample_weight=None, labels=None)"
      ],
      "metadata": {
        "id": "HnAYIFyC7yGp"
      },
      "execution_count": 42,
      "outputs": []
    },
    {
      "cell_type": "code",
      "source": [
        "from sklearn.metrics import confusion_matrix\n",
        "conf_mat = confusion_matrix(y_true, answer)\n",
        "conf_mat"
      ],
      "metadata": {
        "colab": {
          "base_uri": "https://localhost:8080/"
        },
        "id": "DPht8JVP7yKg",
        "outputId": "f0e1fa10-0494-4d9f-a263-f594e4ef5202"
      },
      "execution_count": 43,
      "outputs": [
        {
          "output_type": "execute_result",
          "data": {
            "text/plain": [
              "array([[1, 1, 0, 2, 0],\n",
              "       [2, 2, 4, 1, 1],\n",
              "       [0, 0, 6, 0, 0],\n",
              "       [0, 0, 0, 3, 0],\n",
              "       [0, 0, 1, 0, 6]])"
            ]
          },
          "metadata": {},
          "execution_count": 43
        }
      ]
    },
    {
      "cell_type": "code",
      "source": [
        "train_dir = '/content/weather-data/train/'\n",
        "classes = os.listdir(train_dir)"
      ],
      "metadata": {
        "id": "Bx-xsTVu7yOY"
      },
      "execution_count": 44,
      "outputs": []
    },
    {
      "cell_type": "code",
      "source": [
        "import itertools\n",
        "def plot_confusion_matrix(cm, classes,\n",
        "                          normalize=False,\n",
        "                          title='Confusion matrix',\n",
        "                          cmap=plt.cm.Reds):\n",
        "    \"\"\"\n",
        "    This function prints and plots the confusion matrix.\n",
        "    Normalization can be applied by setting `normalize=True`.\n",
        "    \"\"\"\n",
        "    plt.imshow(cm, interpolation='nearest', cmap=cmap)\n",
        "    plt.title(title)\n",
        "    plt.colorbar()\n",
        "    tick_marks = np.arange(len(classes))\n",
        "    plt.xticks(tick_marks, classes, rotation=45)\n",
        "    plt.yticks(tick_marks, classes)\n",
        "\n",
        "    if normalize:\n",
        "        cm = cm.astype('float') / cm.sum(axis=1)[:, np.newaxis]\n",
        "        cm = cm.round(2)\n",
        "        #print(\"Normalized confusion matrix\")\n",
        "    else:\n",
        "        cm=cm\n",
        "        #print('Confusion matrix, without normalization')\n",
        "\n",
        "    #print(cm)\n",
        "\n",
        "    thresh = cm.max() / 2.\n",
        "    for i, j in itertools.product(range(cm.shape[0]), range(cm.shape[1])):\n",
        "        plt.text(j, i, cm[i, j],\n",
        "                 horizontalalignment=\"center\",\n",
        "                 color=\"white\" if cm[i, j] > thresh else \"black\")\n",
        "\n",
        "    plt.tight_layout()\n",
        "    plt.ylabel('True label')\n",
        "    plt.xlabel('Predicted label')"
      ],
      "metadata": {
        "id": "uw7OOVWx7yUX"
      },
      "execution_count": 45,
      "outputs": []
    },
    {
      "cell_type": "code",
      "source": [
        "np.set_printoptions(precision=2)\n",
        "\n",
        "fig1 = plt.figure(figsize=(7,6))\n",
        "plot_confusion_matrix(conf_mat, classes=classes, title='Confusion matrix, without normalization')\n",
        "plt.show()"
      ],
      "metadata": {
        "colab": {
          "base_uri": "https://localhost:8080/",
          "height": 622
        },
        "id": "jjxFNwdi7yXe",
        "outputId": "9bc9d675-e61f-44aa-a173-b94726a79924"
      },
      "execution_count": 46,
      "outputs": [
        {
          "output_type": "display_data",
          "data": {
            "text/plain": [
              "<Figure size 700x600 with 2 Axes>"
            ],
            "image/png": "[encoded data removed]"
          },
          "metadata": {}
        }
      ]
    },
    {
      "cell_type": "code",
      "source": [],
      "metadata": {
        "id": "3Ngu5hWy7ybD"
      },
      "execution_count": null,
      "outputs": []
    },
    {
      "cell_type": "code",
      "source": [],
      "metadata": {
        "id": "am65yONY7yeU"
      },
      "execution_count": null,
      "outputs": []
    },
    {
      "cell_type": "code",
      "source": [],
      "metadata": {
        "id": "D-5kn1B-7yhr"
      },
      "execution_count": null,
      "outputs": []
    },
    {
      "cell_type": "code",
      "source": [],
      "metadata": {
        "id": "w5snYf7X7yk3"
      },
      "execution_count": null,
      "outputs": []
    }
  ]
}